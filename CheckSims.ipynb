{
 "cells": [
  {
   "cell_type": "code",
   "execution_count": 1,
   "id": "231134ee",
   "metadata": {},
   "outputs": [],
   "source": [
    "from ase.geometry.analysis import Analysis as asis\n",
    "from ase.io import read, write\n",
    "from ase.neighborlist import NeighborList as NL\n",
    "from ase.neighborlist import natural_cutoffs\n",
    "import numpy as np\n",
    "from matplotlib import pyplot as plt\n",
    "from rascal.representations import SphericalInvariants as SOAP\n",
    "from tqdm.auto import tqdm\n",
    "from matplotlib.pyplot import get_cmap\n",
    "import os"
   ]
  },
  {
   "cell_type": "code",
   "execution_count": 2,
   "id": "cccef039",
   "metadata": {},
   "outputs": [],
   "source": [
    "cmap = get_cmap('Set1')"
   ]
  },
  {
   "cell_type": "code",
   "execution_count": 3,
   "id": "4401f1eb",
   "metadata": {},
   "outputs": [],
   "source": [
    "names = ['chair','twist-boat','boat','half-chair','planar']\n",
    "conf_frames = [read(f'./cyclohexane_data/conformers/{k}.xyz') for k in \n",
    "               names]"
   ]
  },
  {
   "cell_type": "code",
   "execution_count": 5,
   "id": "862df1e2",
   "metadata": {},
   "outputs": [],
   "source": [
    "# files = [\n",
    "#     f'./cyclohexane_data/MD/trajectory_{f}.xyz' for f in range(10)\n",
    "#     if os.path.exists(f'./cyclohexane_data/MD/trajectory_{f}.xyz')\n",
    "# ]\n",
    "# frames = [frame for file in files for frame in read(file, ':')]\n",
    "files1 = [\n",
    "    f'./cyclohexane_data/MD2/trajectory_{f}.xyz' for f in range(10)\n",
    "    if os.path.exists(f'./cyclohexane_data/MD2/trajectory_{f}.xyz')\n",
    "]\n",
    "frames1 = [frame for file in files1 for frame in read(file, ':')]\n",
    "energy = [frame.info['energy_eV'] for frame in frames]\n",
    "energy1 = [frame.info['energy'] for frame in frames1]"
   ]
  },
  {
   "cell_type": "code",
   "execution_count": 7,
   "id": "05d78214",
   "metadata": {},
   "outputs": [
    {
     "name": "stderr",
     "output_type": "stream",
     "text": [
      "No handles with labels found to put in legend.\n"
     ]
    },
    {
     "data": {
      "text/plain": [
       "<matplotlib.legend.Legend at 0x7fbdb005f6d0>"
      ]
     },
     "execution_count": 7,
     "metadata": {},
     "output_type": "execute_result"
    },
    {
     "data": {
      "image/png": "[encoded data removed]",
      "text/plain": [
       "<Figure size 432x288 with 1 Axes>"
      ]
     },
     "metadata": {
      "needs_background": "light"
     },
     "output_type": "display_data"
    }
   ],
   "source": [
    "plt.plot(energy, \n",
    "         marker='o' if len(frames)<10 else None)\n",
    "plt.plot(np.linspace(0, len(energy1), len(energy1)), energy1, zorder=-2)\n",
    "# for n, frame in zip(names, conf_frames):\n",
    "#         plt.axhline(frame.info['energy_eV'], label=n, \n",
    "#                     c=cmap(i/(len(conf_frames)-1)), \n",
    "#                     alpha=0.5, zorder=-1)\n",
    "plt.legend()"
   ]
  },
  {
   "cell_type": "code",
   "execution_count": 45,
   "id": "f620ec12",
   "metadata": {},
   "outputs": [],
   "source": [
    "nl = NL(\n",
    "    cutoffs=np.multiply(1.2, natural_cutoffs(conf_frames[0])),\n",
    "    bothways=True,\n",
    "    self_interaction=False,\n",
    ")\n",
    "nl.update(conf_frames[0])\n",
    "a = asis(conf_frames, nl=nl)\n",
    "angles = a.get_angles(\"C\", \"C\", \"C\", unique=True)\n",
    "angle_vals = np.asarray(a.get_values(angles)) * np.pi / 180"
   ]
  },
  {
   "cell_type": "code",
   "execution_count": 46,
   "id": "f6b4f88a",
   "metadata": {},
   "outputs": [
    {
     "data": {
      "text/plain": [
       "<Popen: returncode: None args: ['/opt/miniconda3/bin/python', '-m', 'ase', '...>"
      ]
     },
     "execution_count": 46,
     "metadata": {},
     "output_type": "execute_result"
    }
   ],
   "source": [
    "from ase.visualize import view\n",
    "view(conf_frames[1])"
   ]
  },
  {
   "cell_type": "code",
   "execution_count": 47,
   "id": "75ece848",
   "metadata": {},
   "outputs": [],
   "source": [
    "import pandas as pd"
   ]
  },
  {
   "cell_type": "code",
   "execution_count": 48,
   "id": "9b222618",
   "metadata": {},
   "outputs": [
    {
     "data": {
      "text/html": [
       "<div>\n",
       "<style scoped>\n",
       "    .dataframe tbody tr th:only-of-type {\n",
       "        vertical-align: middle;\n",
       "    }\n",
       "\n",
       "    .dataframe tbody tr th {\n",
       "        vertical-align: top;\n",
       "    }\n",
       "\n",
       "    .dataframe thead tr th {\n",
       "        text-align: left;\n",
       "    }\n",
       "</style>\n",
       "<table border=\"1\" class=\"dataframe\">\n",
       "  <thead>\n",
       "    <tr>\n",
       "      <th></th>\n",
       "      <th>(1, 0, 5)</th>\n",
       "      <th>(0, 1, 2)</th>\n",
       "      <th>(1, 2, 3)</th>\n",
       "      <th>(2, 3, 4)</th>\n",
       "      <th>(3, 4, 5)</th>\n",
       "      <th>(0, 5, 4)</th>\n",
       "    </tr>\n",
       "  </thead>\n",
       "  <tbody>\n",
       "    <tr>\n",
       "      <th>chair</th>\n",
       "      <td>1.910544</td>\n",
       "      <td>1.910635</td>\n",
       "      <td>1.910582</td>\n",
       "      <td>1.910604</td>\n",
       "      <td>1.910634</td>\n",
       "      <td>1.910612</td>\n",
       "    </tr>\n",
       "    <tr>\n",
       "      <th>twist-boat</th>\n",
       "      <td>1.965445</td>\n",
       "      <td>1.941962</td>\n",
       "      <td>1.941962</td>\n",
       "      <td>1.965445</td>\n",
       "      <td>1.941962</td>\n",
       "      <td>1.941962</td>\n",
       "    </tr>\n",
       "    <tr>\n",
       "      <th>boat</th>\n",
       "      <td>1.942736</td>\n",
       "      <td>1.969595</td>\n",
       "      <td>1.969595</td>\n",
       "      <td>1.942736</td>\n",
       "      <td>1.969595</td>\n",
       "      <td>1.969595</td>\n",
       "    </tr>\n",
       "    <tr>\n",
       "      <th>half-chair</th>\n",
       "      <td>2.004308</td>\n",
       "      <td>1.904488</td>\n",
       "      <td>1.904488</td>\n",
       "      <td>2.004308</td>\n",
       "      <td>2.069974</td>\n",
       "      <td>2.069974</td>\n",
       "    </tr>\n",
       "    <tr>\n",
       "      <th>planar</th>\n",
       "      <td>2.094402</td>\n",
       "      <td>2.094392</td>\n",
       "      <td>2.094392</td>\n",
       "      <td>2.094402</td>\n",
       "      <td>2.094392</td>\n",
       "      <td>2.094392</td>\n",
       "    </tr>\n",
       "  </tbody>\n",
       "</table>\n",
       "</div>"
      ],
      "text/plain": [
       "           (1, 0, 5) (0, 1, 2) (1, 2, 3) (2, 3, 4) (3, 4, 5) (0, 5, 4)\n",
       "chair       1.910544  1.910635  1.910582  1.910604  1.910634  1.910612\n",
       "twist-boat  1.965445  1.941962  1.941962  1.965445  1.941962  1.941962\n",
       "boat        1.942736  1.969595  1.969595  1.942736  1.969595  1.969595\n",
       "half-chair  2.004308  1.904488  1.904488  2.004308  2.069974  2.069974\n",
       "planar      2.094402  2.094392  2.094392  2.094402  2.094392  2.094392"
      ]
     },
     "execution_count": 48,
     "metadata": {},
     "output_type": "execute_result"
    }
   ],
   "source": [
    "pd.DataFrame(angle_vals, columns=angles, index=names)"
   ]
  },
  {
   "cell_type": "code",
   "execution_count": 49,
   "id": "eafcd15f",
   "metadata": {},
   "outputs": [],
   "source": [
    "angle_strain = abs(np.sum(angle_vals, axis=1) - (6 * 109.47 * np.pi / 180))"
   ]
  },
  {
   "cell_type": "code",
   "execution_count": 50,
   "id": "2669ed46",
   "metadata": {},
   "outputs": [
    {
     "data": {
      "text/html": [
       "<div>\n",
       "<style scoped>\n",
       "    .dataframe tbody tr th:only-of-type {\n",
       "        vertical-align: middle;\n",
       "    }\n",
       "\n",
       "    .dataframe tbody tr th {\n",
       "        vertical-align: top;\n",
       "    }\n",
       "\n",
       "    .dataframe thead th {\n",
       "        text-align: right;\n",
       "    }\n",
       "</style>\n",
       "<table border=\"1\" class=\"dataframe\">\n",
       "  <thead>\n",
       "    <tr style=\"text-align: right;\">\n",
       "      <th></th>\n",
       "      <th>0</th>\n",
       "    </tr>\n",
       "  </thead>\n",
       "  <tbody>\n",
       "    <tr>\n",
       "      <th>chair</th>\n",
       "      <td>0.000061</td>\n",
       "    </tr>\n",
       "    <tr>\n",
       "      <th>twist-boat</th>\n",
       "      <td>0.235065</td>\n",
       "    </tr>\n",
       "    <tr>\n",
       "      <th>boat</th>\n",
       "      <td>0.300179</td>\n",
       "    </tr>\n",
       "    <tr>\n",
       "      <th>half-chair</th>\n",
       "      <td>0.493867</td>\n",
       "    </tr>\n",
       "    <tr>\n",
       "      <th>planar</th>\n",
       "      <td>1.102699</td>\n",
       "    </tr>\n",
       "  </tbody>\n",
       "</table>\n",
       "</div>"
      ],
      "text/plain": [
       "                   0\n",
       "chair       0.000061\n",
       "twist-boat  0.235065\n",
       "boat        0.300179\n",
       "half-chair  0.493867\n",
       "planar      1.102699"
      ]
     },
     "execution_count": 50,
     "metadata": {},
     "output_type": "execute_result"
    }
   ],
   "source": [
    "pd.DataFrame(angle_strain, index=names)"
   ]
  },
  {
   "cell_type": "code",
   "execution_count": null,
   "id": "96293506",
   "metadata": {},
   "outputs": [],
   "source": [
    "from sklearn.decomposition import PCA\n",
    "pca = PCA(n_components=6)\n",
    "T = pca.fit_transform(angle_strain)\n",
    "plt.scatter(T[:, 0], T[:,1], c=energy, s=4)"
   ]
  },
  {
   "cell_type": "code",
   "execution_count": 53,
   "id": "3cbac181",
   "metadata": {},
   "outputs": [
    {
     "name": "stdout",
     "output_type": "stream",
     "text": [
      "C 8.942505 7.5042015 7.2449625\n",
      "C 8.217537 8.751345 7.755015\n",
      "C 6.7750905 8.7471285 7.2449745\n",
      "C 6.0575265 7.495758 7.755015\n",
      "C 6.7824465 6.248697 7.2449955\n",
      "C 8.224899 6.252915 7.755036\n",
      "H 8.942526 7.504278 6.1550325\n",
      "H 9.9701565 7.507233 7.6083165\n",
      "H 8.2175745 8.7512715 8.845026\n",
      "H 8.728797 9.6428445 7.391742\n",
      "H 8.7413595 5.3644365 7.391697\n",
      "H 8.224872 6.2528355 8.8449675\n",
      "H 6.258624 9.6356055 7.6083135\n",
      "H 6.7751595 8.7471225 6.1550115\n",
      "H 6.0574575 7.495764 8.844978\n",
      "H 5.029875 7.492728 7.391661\n",
      "H 6.7823925 6.248634 6.155001\n",
      "H 6.2711865 5.3571975 7.6082685\n"
     ]
    }
   ],
   "source": [
    "print('\\n'.join(['{} {} {} {}'.format(s, *p) for s, p in zip(conf_frames[0].symbols, conf_frames[0].positions)]))"
   ]
  },
  {
   "cell_type": "code",
   "execution_count": null,
   "id": "2b761661",
   "metadata": {},
   "outputs": [],
   "source": []
  }
 ],
 "metadata": {
  "kernelspec": {
   "display_name": "Python 3 (ipykernel)",
   "language": "python",
   "name": "python3"
  },
  "language_info": {
   "codemirror_mode": {
    "name": "ipython",
    "version": 3
   },
   "file_extension": ".py",
   "mimetype": "text/x-python",
   "name": "python",
   "nbconvert_exporter": "python",
   "pygments_lexer": "ipython3",
   "version": "3.9.5"
  },
  "toc": {
   "base_numbering": 1,
   "nav_menu": {},
   "number_sections": true,
   "sideBar": true,
   "skip_h1_title": false,
   "title_cell": "Table of Contents",
   "title_sidebar": "Contents",
   "toc_cell": false,
   "toc_position": {},
   "toc_section_display": true,
   "toc_window_display": false
  }
 },
 "nbformat": 4,
 "nbformat_minor": 5
}
