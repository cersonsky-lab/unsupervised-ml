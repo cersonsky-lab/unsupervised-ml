{
 "cells": [
  {
   "cell_type": "code",
   "execution_count": null,
   "id": "32630ebe",
   "metadata": {},
   "outputs": [],
   "source": [
    "import os\n",
    "import sys\n",
    "from functools import partial\n",
    "\n",
    "import ase\n",
    "import numpy as np\n",
    "from ase.io import read, write\n",
    "from matplotlib import pyplot as plt\n",
    "import matplotlib as mpl\n",
    "from openTSNE import TSNE\n",
    "from rascal.representations import SphericalInvariants as SOAP\n",
    "from skcosmo.preprocessing import StandardFlexibleScaler\n",
    "from sklearn.metrics.pairwise import pairwise_kernels\n",
    "from sklearn.preprocessing import normalize\n",
    "import sklearn.cluster as cluster\n",
    "import seaborn as sns\n",
    "from tqdm.auto import tqdm\n",
    "import hdbscan\n",
    "\n",
    "from utils import set_mpl_fonts, set_cmap\n",
    "\n",
    "set_mpl_fonts()\n",
    "cmap = set_cmap()"
   ]
  },
  {
   "cell_type": "markdown",
   "id": "99f82223",
   "metadata": {},
   "source": [
    "### SOAP descriptors "
   ]
  },
  {
   "cell_type": "code",
   "execution_count": null,
   "id": "5de571db",
   "metadata": {},
   "outputs": [],
   "source": [
    "names = ['chair', 'twist-boat', 'boat', 'half-chair', 'planar']\n",
    "\n",
    "# so that this notebook doesn't take forever \n",
    "n_skip = 5\n",
    "\n",
    "# computed in `Dimensionality_Reduction_Cyclohexanes.ipynb`\n",
    "data = np.load('./cyclohexane_data/soap_vectors.npz')\n",
    "mean_soaps = data['mean_soaps'][::n_skip]\n",
    "conf_mean_soaps = data['conf_mean_soaps']\n",
    "\n",
    "mean_soaps.shape, conf_mean_soaps.shape"
   ]
  },
  {
   "cell_type": "markdown",
   "id": "3ca3b13e",
   "metadata": {},
   "source": [
    "### Load Embeddings"
   ]
  },
  {
   "cell_type": "code",
   "execution_count": null,
   "id": "3f9ff9c4",
   "metadata": {},
   "outputs": [],
   "source": [
    "# computed in `Dimensionality_Reduction_Cyclohexanes.ipynb`\n",
    "pca_data = np.load('cyclohexane_data/pca.npz')\n",
    "t_pca = pca_data['pca'][::n_skip]\n",
    "t_pca_conf = pca_data['pca_conf']\n",
    "\n",
    "tsne_data = np.load('cyclohexane_data/tsne.npz')\n",
    "t_tsne = tsne_data['tsne'][::n_skip]\n",
    "t_tsne_conf = tsne_data['tsne_conf']\n",
    "\n",
    "umap_data = np.load('cyclohexane_data/umap.npz')\n",
    "t_umap = umap_data['umap'][::n_skip]\n",
    "t_umap_conf = umap_data['umap_conf']\n",
    "\n",
    "pcovr_data = np.load('cyclohexane_data/pcovr.npz')\n",
    "t_pcovr = pcovr_data['pcovr'][::n_skip]\n",
    "t_pcovr_conf = pcovr_data['pcovr_conf']"
   ]
  },
  {
   "cell_type": "code",
   "execution_count": null,
   "id": "d9d04ece",
   "metadata": {},
   "outputs": [],
   "source": [
    "fig, axes = plt.subplots(1, 4, figsize=(12, 3))\n",
    "\n",
    "for ax, rep, rep_name in zip(axes, [t_pca, t_tsne, t_umap, t_pcovr],\n",
    "                             ['PCA', 't-SNE', 'UMAP', \"PCovR\"]):\n",
    "\n",
    "    ax.scatter(\n",
    "        rep[:, 0],\n",
    "        rep[:, 1],\n",
    "        s=1,\n",
    "        cmap=cmap,\n",
    "    )\n",
    "\n",
    "    ax.set_title(rep_name, fontsize=12)\n",
    "    ax.set_xticks([])\n",
    "    ax.set_yticks([])\n",
    "\n",
    "fig.subplots_adjust(top=0.8)\n",
    "plt.suptitle('Mappings from `Dimensionality_Reduction_Cyclohexanes.ipynb`')\n",
    "plt.show()"
   ]
  },
  {
   "cell_type": "markdown",
   "id": "4e4f503a",
   "metadata": {},
   "source": [
    "## Clustering"
   ]
  },
  {
   "cell_type": "code",
   "execution_count": null,
   "id": "672c67d2",
   "metadata": {
    "code_folding": []
   },
   "outputs": [],
   "source": [
    "def plot_clusters(\n",
    "    algorithms,\n",
    "    algorithm_names=[''],\n",
    "    reps=[mean_soaps, t_pca, t_tsne, t_umap, t_pcovr],\n",
    "    rep_names=[\n",
    "        'SOAP Vectors\\n(Plotted along PC1&2)', 'PCA', 't-SNE', 'UMAP', \"PCovR\"\n",
    "    ],\n",
    "    algorithm_kw={},\n",
    "):\n",
    "    all_labels = {}\n",
    "\n",
    "    if len(reps) > 1:\n",
    "        fig, axes = plt.subplots(len(algorithms),\n",
    "                                 len(reps),\n",
    "                                 figsize=(len(reps) * 5, len(algorithms) * 5))\n",
    "    elif len(algorithms) > 1:\n",
    "        fig, axes = plt.subplots(1,\n",
    "                                 len(algorithms),\n",
    "                                 figsize=(len(algorithms) * 5, 5))\n",
    "    else:\n",
    "        fig, axes = plt.subplots(1, 1, figsize=(6, 8))\n",
    "        axes = np.array([axes])\n",
    "\n",
    "    axes = np.reshape(axes, (len(algorithms), len(reps)))\n",
    "\n",
    "    for axl, clustering_algorithm, cam_name, kwds in zip(\n",
    "            axes, algorithms, algorithm_names, algorithm_kw):\n",
    "        for ax, rep, rep_name in zip(axl, reps, rep_names):\n",
    "            alg = clustering_algorithm(**kwds)\n",
    "            labels = alg.fit_predict(rep)\n",
    "            np.maximum(labels, 0)\n",
    "\n",
    "            all_labels[(rep_name, cam_name)] = labels\n",
    "\n",
    "            nclusters = len(np.unique(labels))\n",
    "\n",
    "            if nclusters < 256:\n",
    "                if nclusters < 10:\n",
    "                    cmap = plt.get_cmap('tab10')\n",
    "                elif nclusters < 20:\n",
    "                    cmap = plt.get_cmap('tab20')\n",
    "                else:\n",
    "                    cmap = plt.get_cmap('magma')\n",
    "                norm = mpl.colors.BoundaryNorm(\n",
    "                    np.arange(-0.5, nclusters + 0.5), cmap.N)\n",
    "            else:\n",
    "                cmap = plt.get_cmap('magma')\n",
    "                norm = mpl.colors.BoundaryNorm(np.arange(0, 256), cmap.N)\n",
    "\n",
    "            ax.scatter(\n",
    "                rep[:, 0] if 'SOAP' not in rep_name else t_pca[:, 0],\n",
    "                rep[:, 1] if 'SOAP' not in rep_name else t_pca[:, 1],\n",
    "                s=2,\n",
    "                c=labels,\n",
    "                cmap=cmap,\n",
    "                norm=norm,\n",
    "                alpha=0.5,\n",
    "            )\n",
    "\n",
    "            plt.colorbar(mpl.cm.ScalarMappable(norm=norm, cmap=cmap),\n",
    "                         ax=ax,\n",
    "                         orientation='horizontal',\n",
    "                         ticks=range(0, nclusters)[::max(1, nclusters // 10)])\n",
    "\n",
    "            if len(algorithms) == 1:\n",
    "                ax.set_title(rep_name, fontsize=12)\n",
    "                fig.suptitle(algorithm_names[0])\n",
    "\n",
    "            elif len(reps) == 1:\n",
    "                ax.set_title(cam_name, fontsize=12)\n",
    "                fig.suptitle(rep_name)\n",
    "            else:\n",
    "                ax.set_title((rep_name, cam_name), fontsize=12)\n",
    "\n",
    "            ax.set_xticks([])\n",
    "            ax.set_yticks([])\n",
    "\n",
    "    fig.subplots_adjust(top=0.8)\n",
    "    return all_labels"
   ]
  },
  {
   "cell_type": "markdown",
   "id": "d0f8fb26",
   "metadata": {},
   "source": [
    "### K-Means on all Embeddings"
   ]
  },
  {
   "cell_type": "code",
   "execution_count": null,
   "id": "a1595fa3",
   "metadata": {},
   "outputs": [],
   "source": [
    "km_labels = plot_clusters([cluster.KMeans], ['KMeans'], algorithm_kw=[dict(n_clusters=5)])"
   ]
  },
  {
   "cell_type": "code",
   "execution_count": null,
   "id": "26769109",
   "metadata": {},
   "outputs": [],
   "source": [
    "temp_labels = plot_clusters(\n",
    "    [cluster.AgglomerativeClustering, cluster.DBSCAN],\n",
    "    ['Agglomerative Clustering', \"DBSCAN\"],\n",
    "    reps=[t_pca],\n",
    "    rep_names=[\"PCA\"],\n",
    "    algorithm_kw=[dict(n_clusters=5),\n",
    "                  dict(eps=0.1, min_samples=2)])"
   ]
  },
  {
   "cell_type": "code",
   "execution_count": null,
   "id": "697ebf57",
   "metadata": {},
   "outputs": [],
   "source": [
    "silhouette_score(\n",
    "    mean_soaps,\n",
    "    temp_labels[('PCA',\n",
    "                 'Agglomerative Clustering')].flatten()), silhouette_score(\n",
    "                     mean_soaps, temp_labels[('PCA', 'DBSCAN')].flatten())"
   ]
  },
  {
   "cell_type": "markdown",
   "id": "0f68b6e8",
   "metadata": {},
   "source": [
    "### Comparing Clusterings of the t-SNE Embedding"
   ]
  },
  {
   "cell_type": "markdown",
   "id": "e7425aef",
   "metadata": {},
   "source": [
    "From here on, we'll just work with the t-SNE map, but you can swap it out to see other results!"
   ]
  },
  {
   "cell_type": "markdown",
   "id": "27d56f7b",
   "metadata": {},
   "source": [
    "For the sake of demonstration, we will also assume that a \"ground truth\" clustering based upon the HDBSCAN of the t-SNE"
   ]
  },
  {
   "cell_type": "code",
   "execution_count": null,
   "id": "fe308050",
   "metadata": {},
   "outputs": [],
   "source": [
    "truth_labels = hdbscan.HDBSCAN(min_cluster_size=10, min_samples=3).fit_predict(t_tsne)"
   ]
  },
  {
   "cell_type": "code",
   "execution_count": null,
   "id": "726f8b25",
   "metadata": {},
   "outputs": [],
   "source": [
    "all_labels = plot_clusters([\n",
    "    cluster.KMeans, cluster.AgglomerativeClustering, cluster.DBSCAN,\n",
    "    hdbscan.HDBSCAN\n",
    "], [\"K-Means\", 'Agglomerative Clustering', \"DBSCAN\", \"HDBSCAN\"],\n",
    "                           algorithm_kw=[\n",
    "                               dict(n_clusters=5),\n",
    "                               dict(n_clusters=5),\n",
    "                               dict(eps=3, min_samples=3),\n",
    "                               dict(min_cluster_size=10, min_samples=3)\n",
    "                           ],\n",
    "                           reps=[t_tsne],\n",
    "                           rep_names=['t-SNE'])"
   ]
  },
  {
   "cell_type": "code",
   "execution_count": null,
   "id": "d23a574c",
   "metadata": {},
   "outputs": [],
   "source": [
    "from sklearn.metrics import (davies_bouldin_score, silhouette_score,\n",
    "                             rand_score, fowlkes_mallows_score, jaccard_score,\n",
    "                             f1_score)\n",
    "scorings = (davies_bouldin_score, silhouette_score,\n",
    "                             rand_score, fowlkes_mallows_score, jaccard_score,\n",
    "                             f1_score)\n",
    "import pandas as pd"
   ]
  },
  {
   "cell_type": "code",
   "execution_count": null,
   "id": "d120b4bf",
   "metadata": {},
   "outputs": [],
   "source": [
    "scores = np.array([[\n",
    "    davies_bouldin_score(mean_soaps,\n",
    "                         np.array(labels).flatten()),\n",
    "    silhouette_score(mean_soaps,\n",
    "                     np.array(labels).flatten()),\n",
    "    rand_score(truth_labels,\n",
    "               np.array(labels).flatten()),\n",
    "    fowlkes_mallows_score(truth_labels,\n",
    "                          np.array(labels).flatten()),\n",
    "    jaccard_score(truth_labels, np.array(labels).flatten(), average='macro'),\n",
    "    f1_score(truth_labels, np.array(labels).flatten(), average='macro'),\n",
    "] for labels in all_labels.values()])"
   ]
  },
  {
   "cell_type": "code",
   "execution_count": null,
   "id": "0790bb54",
   "metadata": {},
   "outputs": [],
   "source": [
    "df = pd.DataFrame(scores,\n",
    "                  columns=[\"DB\", \"Silhouette\", \"Rand\", \"FM\", \"Jaccard\", \"F\"],\n",
    "                  index=all_labels.keys())\n",
    "df.style.format(precision=2)"
   ]
  },
  {
   "cell_type": "markdown",
   "id": "970da657",
   "metadata": {},
   "source": [
    "From here, we can see that HDBSCAN, K-Means, and Agglomerative Clustering best capture the shape of the data (seen by the low Davies-Bouldin and higher silhouette scores). Because we are using HDBSCAN as our \"ground truth\", the external metrics are high (Rand, Fowlkes-Mallows, Jaccard, and F-scores), with DBSCAN coming in second place."
   ]
  },
  {
   "cell_type": "code",
   "execution_count": null,
   "id": "8a1b697b",
   "metadata": {},
   "outputs": [],
   "source": []
  }
 ],
 "metadata": {
  "hide_input": false,
  "kernelspec": {
   "display_name": "Python 3 (ipykernel)",
   "language": "python",
   "name": "python3"
  },
  "language_info": {
   "codemirror_mode": {
    "name": "ipython",
    "version": 3
   },
   "file_extension": ".py",
   "mimetype": "text/x-python",
   "name": "python",
   "nbconvert_exporter": "python",
   "pygments_lexer": "ipython3",
   "version": "3.9.5"
  },
  "toc": {
   "base_numbering": 1,
   "nav_menu": {},
   "number_sections": true,
   "sideBar": true,
   "skip_h1_title": false,
   "title_cell": "Table of Contents",
   "title_sidebar": "Contents",
   "toc_cell": false,
   "toc_position": {},
   "toc_section_display": true,
   "toc_window_display": true
  }
 },
 "nbformat": 4,
 "nbformat_minor": 5
}
