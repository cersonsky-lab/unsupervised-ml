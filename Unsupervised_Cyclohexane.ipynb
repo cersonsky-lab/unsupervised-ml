{
 "cells": [
  {
   "cell_type": "markdown",
   "metadata": {},
   "source": [
    "## Unsupervised ML Example: Cyclohexane"
   ]
  },
  {
   "cell_type": "code",
   "execution_count": null,
   "metadata": {},
   "outputs": [],
   "source": [
    "import ase\n",
    "import os\n",
    "import sys\n",
    "import numpy as np\n",
    "import pandas as pd\n",
    "from ase.visualize import view\n",
    "import plotly.express as px\n",
    "from plotly.offline import init_notebook_mode, plot\n",
    "init_notebook_mode(connected=True)\n",
    "from ase.io import read\n",
    "from soapml.descriptors.soap import SOAP\n",
    "from sklearn.preprocessing import normalize\n",
    "import numpy as np\n",
    "from openTSNE import TSNE\n",
    "\n",
    "%config Completer.use_jedi = False\n",
    "%load_ext autoreload\n",
    "%autoreload 2"
   ]
  },
  {
   "cell_type": "code",
   "execution_count": null,
   "metadata": {},
   "outputs": [],
   "source": [
    "import soapml\n",
    "soapml.__version__"
   ]
  },
  {
   "cell_type": "markdown",
   "metadata": {},
   "source": [
    "### Read Data\n"
   ]
  },
  {
   "cell_type": "code",
   "execution_count": null,
   "metadata": {},
   "outputs": [],
   "source": [
    "from ase.io import read\n",
    "traj=read('../unsupervised-ml-main/cyclohexane_data/MD/trajectory.xyz',index=':')\n",
    "v=view(traj,viewer='ngl')\n",
    "v"
   ]
  },
  {
   "cell_type": "code",
   "execution_count": null,
   "metadata": {},
   "outputs": [],
   "source": [
    "traj[0].info"
   ]
  },
  {
   "cell_type": "code",
   "execution_count": null,
   "metadata": {},
   "outputs": [],
   "source": [
    "energy=[a.info['energy_ryd'] for a in traj]"
   ]
  },
  {
   "cell_type": "markdown",
   "metadata": {},
   "source": [
    "### Analysis at global structure level \n"
   ]
  },
  {
   "cell_type": "markdown",
   "metadata": {},
   "source": [
    "#### Create SOAP descriptors \n",
    "we create soap descriptor with the help of `soampml` library as below. The main concept is that we use `rcut=4.5` that we are considering 4.5A radius of sphere for describing each atom environments in the structure to get environmental descriptors (109 atoms per structure so 109 descriptor per structure). But we need one descriptor per structure so we use one of the `site_to_structure` method to build a structure level descriptor from the local environment ones. "
   ]
  },
  {
   "cell_type": "code",
   "execution_count": null,
   "metadata": {},
   "outputs": [],
   "source": [
    "from soapml.descriptors.soap import SOAP\n",
    "from sklearn.preprocessing import normalize\n",
    "import numpy as np\n",
    "\n",
    "    \n",
    "soap=SOAP(rcut=4.5,nmax=8,lmax=4,sigma=0.5,periodic=False,rbf='gto',crossover=True)\n",
    "soap.fit(traj,site_to_structure_method='inner')\n",
    "soapdesc=soap.featurize_many(traj,n_jobs=40)\n",
    "soapdesc = normalize(soapdesc, axis=1)"
   ]
  },
  {
   "cell_type": "code",
   "execution_count": null,
   "metadata": {},
   "outputs": [],
   "source": [
    "from sklearn.decomposition import PCA\n",
    "pca=PCA(n_components=10)\n",
    "pca.fit(soapdesc)"
   ]
  },
  {
   "cell_type": "code",
   "execution_count": null,
   "metadata": {},
   "outputs": [],
   "source": [
    "px.line(pca.explained_variance_ratio_,markers='o')"
   ]
  },
  {
   "cell_type": "code",
   "execution_count": null,
   "metadata": {},
   "outputs": [],
   "source": [
    "pca_comp=pca.transform(soapdesc)\n",
    "df_pca=pd.DataFrame({'x':pca_comp[:,0],'y':pca_comp[:,1],'z':pca_comp[:,2],'energy':energy})\n",
    "fig=px.scatter(data_frame=df_pca,x='x',y='y')#,z='z',color='energy')\n",
    "pca_comp_conf=pca.transform(conf_soapdesc)\n",
    "df_pca_conf=pd.DataFrame({'x':pca_comp_conf[:,0],'y':pca_comp_conf[:,1],'z':pca_comp_conf[:,2],'name':names})\n",
    "fig.add_traces(px.scatter(data_frame=df_pca_conf,x='x',y='y',color='name',size=[20 for i in range(len(conf_embedding))]).data)"
   ]
  },
  {
   "cell_type": "markdown",
   "metadata": {},
   "source": [
    "#### Visualizing descriptor space\n",
    "Now that we have computed the `SOAP` descriptors, let's find out how the descriptor scape looks like.There are mainly two ways of doing this when dealing with high dimensional descriptor space like we have here. `Clustering` and `dimensionality reduction`. We can do both and should come up with same insights. Here let's employ one of the most popular non-linear dimensionality reduction algorithm in ML field `T-distributed Stochastic Neighbor Embedding (t-SNE)` to obtain 3 dimensional representation of our descriptor space. "
   ]
  },
  {
   "cell_type": "code",
   "execution_count": null,
   "metadata": {},
   "outputs": [],
   "source": [
    "tsne = TSNE(\n",
    "    n_components=2,\n",
    "    perplexity=50,\n",
    "    metric=\"euclidean\",\n",
    "    n_jobs=40,\n",
    "    random_state=42,\n",
    "    verbose=True,\n",
    ")"
   ]
  },
  {
   "cell_type": "code",
   "execution_count": null,
   "metadata": {},
   "outputs": [],
   "source": [
    "embedding=tsne.fit(pca_comp)"
   ]
  },
  {
   "cell_type": "code",
   "execution_count": null,
   "metadata": {},
   "outputs": [],
   "source": [
    "px.defaults.width=800\n",
    "px.defaults.height=600\n",
    "px.scatter(x=embedding[:,0],y=embedding[:,1],color=energy)"
   ]
  },
  {
   "cell_type": "code",
   "execution_count": null,
   "metadata": {},
   "outputs": [],
   "source": [
    "conf_traj=[]\n",
    "names=['boat','chair','half-boat','half-chair','planar','twist-boat']\n",
    "for conformer in names:\n",
    "    atoms=read('../unsupervised-ml-main/cyclohexane_data/conformers/{}.xyz'.format(conformer))\n",
    "    atoms.info['name']=conformer\n",
    "    conf_traj.append(atoms)"
   ]
  },
  {
   "cell_type": "code",
   "execution_count": null,
   "metadata": {
    "cell_style": "split"
   },
   "outputs": [],
   "source": [
    "view(conf_traj[2],viewer='ngl')"
   ]
  },
  {
   "cell_type": "code",
   "execution_count": null,
   "metadata": {
    "cell_style": "split"
   },
   "outputs": [],
   "source": [
    "view(conf_traj[3],viewer='ngl')"
   ]
  },
  {
   "cell_type": "code",
   "execution_count": null,
   "metadata": {},
   "outputs": [],
   "source": [
    "conf_soapdesc=soap.featurize_many(conf_traj,n_jobs=4)\n",
    "conf_soapdesc = normalize(conf_soapdesc, axis=1)\n",
    "conf_embedding=embedding.transform(pca.transform(conf_soapdesc))"
   ]
  },
  {
   "cell_type": "code",
   "execution_count": null,
   "metadata": {},
   "outputs": [],
   "source": [
    "conf_df=pd.DataFrame({'TSNE_0':conf_embedding[:,0],'TSNE_1':conf_embedding[:,1],'name':names})"
   ]
  },
  {
   "cell_type": "code",
   "execution_count": null,
   "metadata": {},
   "outputs": [],
   "source": [
    "conf_df"
   ]
  },
  {
   "cell_type": "code",
   "execution_count": null,
   "metadata": {},
   "outputs": [],
   "source": [
    "fig=px.scatter(x=embedding[:,0],y=embedding[:,1])\n",
    "fig.add_traces(px.scatter(data_frame=conf_df,x='TSNE_0',y='TSNE_1',color='name',size=[20 for i in range(len(conf_embedding))]).data)"
   ]
  },
  {
   "cell_type": "code",
   "execution_count": null,
   "metadata": {},
   "outputs": [],
   "source": [
    "import numpy as np\n",
    "import matplotlib.pyplot as plt\n",
    "import seaborn as sns\n",
    "import sklearn.cluster as cluster\n",
    "import time\n",
    "%matplotlib inline\n",
    "sns.set_context('poster')\n",
    "sns.set_color_codes()\n",
    "plot_kwds = {'alpha' : 0.25, 's' : 80, 'linewidths':0}"
   ]
  },
  {
   "cell_type": "code",
   "execution_count": null,
   "metadata": {},
   "outputs": [],
   "source": [
    "plt.scatter(embedding[:,0], embedding[:,1], c='b', **plot_kwds)\n",
    "frame = plt.gca()\n",
    "frame.axes.get_xaxis().set_visible(False)\n",
    "frame.axes.get_yaxis().set_visible(False)"
   ]
  },
  {
   "cell_type": "code",
   "execution_count": null,
   "metadata": {},
   "outputs": [],
   "source": [
    "def plot_clusters(embedding, algorithm, args, kwds):\n",
    "    start_time = time.time()\n",
    "    labels = algorithm(*args, **kwds).fit_predict(embedding)\n",
    "    end_time = time.time()\n",
    "    palette = sns.color_palette('deep', np.unique(labels).max() + 1)\n",
    "    colors = [palette[x] if x >= 0 else (0.0, 0.0, 0.0) for x in labels]\n",
    "    plt.scatter(embedding[:,0], embedding[:,1], c=colors, **plot_kwds)\n",
    "    frame = plt.gca()\n",
    "    frame.axes.get_xaxis().set_visible(False)\n",
    "    frame.axes.get_yaxis().set_visible(False)\n",
    "    plt.title('Clusters found by {}'.format(str(algorithm.__name__)), fontsize=24)\n",
    "    plt.text(-0.5, 0.7, 'Clustering took {:.2f} s'.format(end_time - start_time), fontsize=14)"
   ]
  },
  {
   "cell_type": "code",
   "execution_count": null,
   "metadata": {},
   "outputs": [],
   "source": [
    "plot_clusters(embedding, cluster.KMeans, (), {'n_clusters':7})"
   ]
  },
  {
   "cell_type": "code",
   "execution_count": null,
   "metadata": {},
   "outputs": [],
   "source": [
    "plot_clusters(embedding, cluster.MeanShift, (), {'cluster_all':False})"
   ]
  },
  {
   "cell_type": "code",
   "execution_count": null,
   "metadata": {},
   "outputs": [],
   "source": [
    "plot_clusters(embedding, cluster.DBSCAN, (), {'eps':0.5})"
   ]
  },
  {
   "cell_type": "code",
   "execution_count": null,
   "metadata": {},
   "outputs": [],
   "source": [
    "pca_comp"
   ]
  },
  {
   "cell_type": "code",
   "execution_count": null,
   "metadata": {},
   "outputs": [],
   "source": [
    "import hdbscan\n",
    "plot_clusters(pca_comp[:,0:4], hdbscan.HDBSCAN, (), {'min_cluster_size':40})"
   ]
  },
  {
   "cell_type": "markdown",
   "metadata": {},
   "source": [
    "We plot the obtained three t-SNE components in 3d and we see there are three major clusters in our data indicating there are three major structural groups. As we have access to energy of the configurations, we can color the plot with that and any other properties that we think are important to understand the structure property relations, the most important understand for materials design. \n",
    "\n",
    "Here we see there are indeed a good correlation between the clusters and the energy of them and even within a given cluster, we see there are some visible trends.\n",
    "\n",
    "There are no units in the axis of the plot because the result of non-liner dimensionality reduction algorithms like `t-SNE` does not a fixed scale length across the plot. We give higher importance to proximity matching than trying to reproduce accurate distance from high dimensional space. This is because our objective is to create a meaningful visual representation only. Each points in this plot representing one of the 300 structures and if two points are close they are `similar` in structure and should therefore be `similar` in energy for example.\n"
   ]
  },
  {
   "cell_type": "code",
   "execution_count": null,
   "metadata": {},
   "outputs": [],
   "source": []
  }
 ],
 "metadata": {
  "hide_input": false,
  "kernelspec": {
   "display_name": "Edelweiss0.1",
   "language": "python",
   "name": "edelweiss0.1"
  },
  "language_info": {
   "codemirror_mode": {
    "name": "ipython",
    "version": 3
   },
   "file_extension": ".py",
   "mimetype": "text/x-python",
   "name": "python",
   "nbconvert_exporter": "python",
   "pygments_lexer": "ipython3",
   "version": "3.6.8"
  },
  "toc": {
   "base_numbering": 1,
   "nav_menu": {},
   "number_sections": true,
   "sideBar": true,
   "skip_h1_title": false,
   "title_cell": "Table of Contents",
   "title_sidebar": "Contents",
   "toc_cell": false,
   "toc_position": {},
   "toc_section_display": true,
   "toc_window_display": true
  }
 },
 "nbformat": 4,
 "nbformat_minor": 4
}
