{
 "cells": [
  {
   "cell_type": "code",
   "execution_count": null,
   "id": "3aafcd06",
   "metadata": {},
   "outputs": [],
   "source": [
    "from ase.io import read\n",
    "from sklearn.decomposition import PCA, KernelPCA\n",
    "from matplotlib import pyplot as plt\n",
    "from scipy.spatial.transform import Rotation\n",
    "import numpy as np\n",
    "from ase.visualize.plot import plot_atoms"
   ]
  },
  {
   "cell_type": "code",
   "execution_count": null,
   "id": "01312732",
   "metadata": {},
   "outputs": [],
   "source": [
    "chair = read('../cyclohexane_data/conformers/chair.xyz')\n",
    "chair.cell = None\n",
    "chair.positions = chair.positions - np.mean(chair.positions, axis=0)"
   ]
  },
  {
   "cell_type": "code",
   "execution_count": null,
   "id": "593ed18f",
   "metadata": {},
   "outputs": [],
   "source": [
    "def plot_mol(positions, ax, vecs=[\"x\", \"y\", \"z\"], fs=14, x=-0.5, y=-0.75):\n",
    "    atoms = chair.copy()\n",
    "    atoms.positions = positions\n",
    "    plot_atoms(atoms, ax=ax)\n",
    "    ax.arrow(x,\n",
    "             y,\n",
    "             1,\n",
    "             0,\n",
    "             width=0.05,\n",
    "             clip_on=False,\n",
    "             color='k',\n",
    "             head_length=0.3,\n",
    "             head_width=0.3)\n",
    "    ax.text(s=vecs[0],\n",
    "            x=x + 0.25,\n",
    "            y=y - 0.25,\n",
    "            fontsize=fs,\n",
    "            ha='center',\n",
    "            va='top')\n",
    "    ax.arrow(x,\n",
    "             y,\n",
    "             0,\n",
    "             1,\n",
    "             width=0.05,\n",
    "             clip_on=False,\n",
    "             color='k',\n",
    "             head_length=0.3,\n",
    "             head_width=0.3)\n",
    "    ax.text(s=vecs[1],\n",
    "            x=x - 0.25,\n",
    "            y=y + 0.25,\n",
    "            fontsize=fs,\n",
    "            ha='right',\n",
    "            va='center')\n",
    "    ax.arrow(x,\n",
    "             y,\n",
    "             0.3,\n",
    "             0.5,\n",
    "             width=0.05,\n",
    "             clip_on=False,\n",
    "             color='k',\n",
    "             head_length=0.3,\n",
    "             head_width=0.3)\n",
    "    ax.text(s=vecs[2],\n",
    "            x=x + 0.5,\n",
    "            y=y + 0.5,\n",
    "            fontsize=fs,\n",
    "            ha='left',\n",
    "            va='bottom')\n",
    "    ax.set_xticks([])\n",
    "    ax.set_yticks([])\n",
    "    ax.spines['top'].set_visible(False)\n",
    "    ax.spines['right'].set_visible(False)\n",
    "    ax.spines['bottom'].set_visible(False)\n",
    "    ax.spines['left'].set_visible(False)"
   ]
  },
  {
   "cell_type": "code",
   "execution_count": null,
   "id": "19181457",
   "metadata": {},
   "outputs": [],
   "source": [
    "def plot_dims(p):\n",
    "    fig, ax = plt.subplots(1,3,figsize=(10,3))\n",
    "    ax[0].scatter(p[:, 0], p[:, 1], c=chair.numbers)\n",
    "    ax[1].scatter(p[:, 0], p[:, 2], c=chair.numbers)\n",
    "    ax[2].scatter(p[:, 1], p[:, 2], c=chair.numbers)"
   ]
  },
  {
   "cell_type": "code",
   "execution_count": null,
   "id": "b139df9b",
   "metadata": {},
   "outputs": [],
   "source": [
    "r = Rotation.random().as_matrix()"
   ]
  },
  {
   "cell_type": "code",
   "execution_count": null,
   "id": "68bedeae",
   "metadata": {},
   "outputs": [],
   "source": [
    "rot_positions = chair.positions @ r\n",
    "\n",
    "chair_rot = chair.copy()\n",
    "chair_rot.positions = rot_positions"
   ]
  },
  {
   "cell_type": "code",
   "execution_count": null,
   "id": "783495ed",
   "metadata": {},
   "outputs": [],
   "source": [
    "positions_pca = PCA(n_components=3).fit_transform(rot_positions)\n",
    "\n",
    "chair_pca = chair.copy()\n",
    "chair_pca.positions = positions_pca"
   ]
  },
  {
   "cell_type": "code",
   "execution_count": null,
   "id": "fb6c00f6",
   "metadata": {},
   "outputs": [],
   "source": [
    "fig, ax = plt.subplots(1, 2, figsize=(8, 4), sharex=True, sharey=True)\n",
    "\n",
    "fs = 14\n",
    "y = -0.75\n",
    "x = -0.5\n",
    "\n",
    "plot_mol(rot_positions, ax=ax[0])\n",
    "plot_mol(positions_pca, ax=ax[1], vecs = [r'$\\mathrm{PC}_1$', r'$\\mathrm{PC}_2$', r'$\\mathrm{PC}_3$'])\n",
    "\n",
    "ax[1].set_xlim([-1,6])\n",
    "ax[1].set_ylim([-1,6])\n",
    "\n",
    "fig.subplots_adjust(wspace=0)\n",
    "plt.savefig(\"Figure3.pdf\")"
   ]
  },
  {
   "cell_type": "code",
   "execution_count": null,
   "id": "74a932cc",
   "metadata": {},
   "outputs": [],
   "source": [
    "from sklearn.manifold import LocallyLinearEmbedding as LLE"
   ]
  },
  {
   "cell_type": "code",
   "execution_count": null,
   "id": "16837954",
   "metadata": {},
   "outputs": [],
   "source": [
    "positions_lle = LLE(n_components=3,\n",
    "                    n_neighbors=2).fit_transform(chair.positions)\n",
    "positions_lle"
   ]
  },
  {
   "cell_type": "code",
   "execution_count": null,
   "id": "1cb72b08",
   "metadata": {},
   "outputs": [],
   "source": [
    "plot_dims(positions_lle)"
   ]
  },
  {
   "cell_type": "code",
   "execution_count": null,
   "id": "acbb3187",
   "metadata": {},
   "outputs": [],
   "source": [
    "plot_mol(positions_lle, ax = plt.subplots()[1])"
   ]
  },
  {
   "cell_type": "code",
   "execution_count": null,
   "id": "7caa4f86",
   "metadata": {},
   "outputs": [],
   "source": []
  }
 ],
 "metadata": {
  "kernelspec": {
   "display_name": "Python 3 (ipykernel)",
   "language": "python",
   "name": "python3"
  },
  "language_info": {
   "codemirror_mode": {
    "name": "ipython",
    "version": 3
   },
   "file_extension": ".py",
   "mimetype": "text/x-python",
   "name": "python",
   "nbconvert_exporter": "python",
   "pygments_lexer": "ipython3",
   "version": "3.9.5"
  },
  "toc": {
   "base_numbering": 1,
   "nav_menu": {},
   "number_sections": true,
   "sideBar": true,
   "skip_h1_title": false,
   "title_cell": "Table of Contents",
   "title_sidebar": "Contents",
   "toc_cell": false,
   "toc_position": {},
   "toc_section_display": true,
   "toc_window_display": false
  }
 },
 "nbformat": 4,
 "nbformat_minor": 5
}
