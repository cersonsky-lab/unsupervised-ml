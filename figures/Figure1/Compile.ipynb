{
 "cells": [
  {
   "cell_type": "code",
   "execution_count": null,
   "metadata": {},
   "outputs": [],
   "source": [
    "import os\n",
    "\n",
    "from matplotlib.gridspec import GridSpec\n",
    "import numpy as np\n",
    "from matplotlib import pyplot as plt\n",
    "from PIL import Image\n",
    "\n",
    "MEDIUM = 16\n",
    "SMALL = 12\n",
    "LARGE = 20\n",
    "font_params = {\n",
    "    \"axes.labelsize\": MEDIUM,\n",
    "    \"axes.titlesize\": LARGE,\n",
    "    \"figure.titlesize\": LARGE,\n",
    "    \"font.size\": MEDIUM,\n",
    "    \"legend.fontsize\": SMALL,\n",
    "    \"legend.title_fontsize\": SMALL,\n",
    "    \"xtick.labelsize\": SMALL,\n",
    "    \"ytick.labelsize\": SMALL,\n",
    "}\n",
    "for key, val in font_params.items():\n",
    "    plt.rcParams[key] = val\n",
    "\n",
    "names = {\"C\": \"Carbon\", \"H\": \"Hydrogen\"}\n",
    "colors = {\"H\": (0.6, 0.6, 0.6), \"C\": (0.2, 0.2, 0.2)}\n"
   ]
  },
  {
   "cell_type": "code",
   "execution_count": null,
   "metadata": {},
   "outputs": [],
   "source": [
    "for fn in os.listdir():\n",
    "    if fn.endswith('png'):\n",
    "        print(fn, Image.open(fn).size)"
   ]
  },
  {
   "cell_type": "code",
   "execution_count": null,
   "metadata": {},
   "outputs": [],
   "source": [
    "Image.open('positions.png').height / Image.open('bonds.png').height"
   ]
  },
  {
   "cell_type": "code",
   "execution_count": null,
   "metadata": {},
   "outputs": [],
   "source": [
    "fig = plt.figure(figsize=(14,6))\n",
    "gs = GridSpec(nrows=3, ncols=5, height_ratios=(1, 0.7, 1.1), width_ratios=(2,1.2,1.2, 1,1))\n",
    "\n",
    "info_panel = fig.add_subplot(gs[:, 0])\n",
    "# info_panel.axis('off')\n",
    "info_panel.set_xticks([])\n",
    "info_panel.set_yticks([])\n",
    "\n",
    "cart_panel = fig.add_subplot(gs[:, 1])\n",
    "cart_panel.imshow(Image.open('positions.png'))\n",
    "cart_panel.axis('off')\n",
    "\n",
    "bond_panel = fig.add_subplot(gs[2:, 2])\n",
    "bond_panel.imshow(Image.open('bonds.png'))\n",
    "bond_panel.axis('off')\n",
    "\n",
    "z_panel = fig.add_subplot(gs[:2, 2])\n",
    "z_panel.imshow(Image.open('Z_matrix.png'))\n",
    "z_panel.axis('off')\n",
    "\n",
    "c_panel = fig.add_subplot(gs[0, 3:])\n",
    "c_panel.imshow(Image.open('cn00.png'))\n",
    "c_panel.axis('off')\n",
    "\n",
    "cc_panel = fig.add_subplot(gs[1:, 3:])\n",
    "cc_panel.imshow(Image.open('cn00.cn`00.png'))\n",
    "cc_panel.axis('off')\n",
    "\n",
    "fig.subplots_adjust(wspace=0.1, hspace=0.1)\n",
    "fig.show()"
   ]
  },
  {
   "cell_type": "code",
   "execution_count": null,
   "metadata": {},
   "outputs": [],
   "source": []
  }
 ],
 "metadata": {
  "kernelspec": {
   "display_name": "Python 3 (ipykernel)",
   "language": "python",
   "name": "python3"
  },
  "language_info": {
   "codemirror_mode": {
    "name": "ipython",
    "version": 3
   },
   "file_extension": ".py",
   "mimetype": "text/x-python",
   "name": "python",
   "nbconvert_exporter": "python",
   "pygments_lexer": "ipython3",
   "version": "3.9.5"
  }
 },
 "nbformat": 4,
 "nbformat_minor": 4
}
