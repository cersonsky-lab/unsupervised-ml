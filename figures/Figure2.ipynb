{
 "cells": [
  {
   "cell_type": "code",
   "execution_count": 1,
   "id": "3aafcd06",
   "metadata": {},
   "outputs": [],
   "source": [
    "from ase.io import read\n",
    "from sklearn.decomposition import PCA, KernelPCA\n",
    "from matplotlib import pyplot as plt\n",
    "from scipy.spatial.transform import Rotation\n",
    "import numpy as np\n",
    "from ase.visualize.plot import plot_atoms\n",
    "from rascal.representations import SphericalInvariants as SOAP\n",
    "from skcosmo.preprocessing import StandardFlexibleScaler\n",
    "from sklearn.metrics.pairwise import pairwise_kernels\n",
    "from functools import partial\n",
    "\n",
    "import sys\n",
    "sys.path.append('../')\n",
    "\n",
    "from utils import set_mpl_fonts, set_cmap\n",
    "\n",
    "set_mpl_fonts()\n",
    "cmap = set_cmap()"
   ]
  },
  {
   "cell_type": "code",
   "execution_count": 2,
   "id": "01312732",
   "metadata": {},
   "outputs": [],
   "source": [
    "# read in the frames corresponding to these conformers\n",
    "names = ['chair', 'half-chair', 'twist-boat', 'boat', 'planar']\n",
    "conf_traj = [read(f'../cyclohexane_data/conformers/{n}.xyz') for n in names]\n",
    "\n",
    "for frame in conf_traj:\n",
    "\n",
    "    # wrap each frame in its box\n",
    "    frame.wrap(eps=1E-10)\n",
    "\n",
    "    # mask each frame so that descriptors are only centered on carbon (#6) atoms\n",
    "    mask = np.zeros(len(frame))\n",
    "    mask[np.where(frame.numbers == 6)[0]] = 1\n",
    "    frame.arrays['center_atoms_mask'] = mask\n"
   ]
  },
  {
   "cell_type": "code",
   "execution_count": 3,
   "id": "7caa4f86",
   "metadata": {},
   "outputs": [],
   "source": [
    "hypers = {\n",
    "    \"interaction_cutoff\": 4.0,\n",
    "    \"max_radial\": 6,\n",
    "    \"max_angular\": 9,\n",
    "    \"gaussian_sigma_constant\": 0.3,\n",
    "    \"gaussian_sigma_type\": \"Constant\",\n",
    "    \"cutoff_smooth_width\": 0.8,\n",
    "    \"radial_basis\": \"GTO\",\n",
    "    \"global_species\": [1, 6],\n",
    "    \"expansion_by_species_method\": \"user defined\",\n",
    "    \"normalize\": False\n",
    "}\n",
    "\n",
    "soap = SOAP(**hypers)\n",
    "normalizer = StandardFlexibleScaler(column_wise=False)\n",
    "\n",
    "conf_soaps = normalizer.fit_transform(soap.transform(conf_traj).get_features(soap))\n",
    "conf_split_soaps = np.split(conf_soaps, len(conf_traj))\n",
    "conf_mean_soaps = np.mean(np.split(conf_soaps, len(conf_traj)), axis=1)"
   ]
  },
  {
   "cell_type": "code",
   "execution_count": 4,
   "id": "f6a41e56",
   "metadata": {},
   "outputs": [],
   "source": [
    "gamma = 1.0\n",
    "k_gamma = partial(pairwise_kernels, metric='rbf', gamma=gamma)"
   ]
  },
  {
   "cell_type": "code",
   "execution_count": 5,
   "id": "f5958c0c",
   "metadata": {},
   "outputs": [],
   "source": [
    "K_gamma = [[np.mean(np.diag(k_gamma(c1, c2))) for c1 in conf_split_soaps]\n",
    "           for c2 in conf_split_soaps]"
   ]
  },
  {
   "cell_type": "code",
   "execution_count": 6,
   "id": "d8e78f84",
   "metadata": {},
   "outputs": [
    {
     "data": {
      "image/png": "[encoded data removed]",
      "text/plain": [
       "<Figure size 720x648 with 2 Axes>"
      ]
     },
     "metadata": {
      "needs_background": "light"
     },
     "output_type": "display_data"
    }
   ],
   "source": [
    "fig, (ax, cax) = plt.subplots(1,\n",
    "                              2,\n",
    "                              figsize=(10, 9),\n",
    "                              gridspec_kw=dict(width_ratios=(1.0, 0.1)))\n",
    "p = ax.imshow(K_gamma, vmin=0.0, vmax=1.0, cmap='bone_r')\n",
    "cbar = plt.colorbar(p, cax=cax)\n",
    "cbar.set_label('Similarity', rotation=90)\n",
    "\n",
    "ax.set_xticks(range(5))\n",
    "ax.set_yticks(range(5))\n",
    "ax.set_xticklabels(names)\n",
    "ax.set_yticklabels(names)\n",
    "\n",
    "ax.set_title(\"Best-Match Kernel of Cyclohexane Conformations\\n\" +\n",
    "             r\"$k(x_i, x_j) = \\mathrm{{exp}}(-||x_i - x_j||^2)$\".format(gamma))\n",
    "\n",
    "plt.savefig('Figure4.pdf')"
   ]
  },
  {
   "cell_type": "code",
   "execution_count": null,
   "id": "e958474c",
   "metadata": {},
   "outputs": [],
   "source": []
  }
 ],
 "metadata": {
  "kernelspec": {
   "display_name": "Python 3 (ipykernel)",
   "language": "python",
   "name": "python3"
  },
  "language_info": {
   "codemirror_mode": {
    "name": "ipython",
    "version": 3
   },
   "file_extension": ".py",
   "mimetype": "text/x-python",
   "name": "python",
   "nbconvert_exporter": "python",
   "pygments_lexer": "ipython3",
   "version": "3.9.5"
  },
  "toc": {
   "base_numbering": 1,
   "nav_menu": {},
   "number_sections": true,
   "sideBar": true,
   "skip_h1_title": false,
   "title_cell": "Table of Contents",
   "title_sidebar": "Contents",
   "toc_cell": false,
   "toc_position": {},
   "toc_section_display": true,
   "toc_window_display": false
  }
 },
 "nbformat": 4,
 "nbformat_minor": 5
}
